{
 "cells": [
  {
   "cell_type": "code",
   "execution_count": 28,
   "id": "5feb37b5",
   "metadata": {},
   "outputs": [
    {
     "name": "stdout",
     "output_type": "stream",
     "text": [
      "Cредние значения по группам: 179.125,178.66666666666666,172.72727272727272\n",
      "Среднее значение по всем группам : 176.46428571428572\n",
      "Сумма квадратов отклонений по всем группам : 830.9642857142854\n",
      "Сумма квадратов отклонений средних групповых значений от общего : 253.9074675324678\n",
      "Сумма квадратов отклонений остаточная : 577.0568181818182\n",
      "Общая : 830.964285714286\n",
      "Факторная дисперсия : 126.9537337662339\n",
      "Остаточная дисперсия : 23.08227272727273\n",
      "Наблюдаемое значение критерия: 5.500053450812598\n",
      "Вычисление с помощью функции : F_onewayResult(statistic=5.500053450812596, pvalue=0.010482206918698694)\n",
      "Есть различия в среднем росте среди групп\n"
     ]
    }
   ],
   "source": [
    "# 1) Провести дисперсионный анализ для определения того, есть ли различия среднего роста среди взрослых футболистов, хоккеистов и штангистов.\n",
    "# Даны значения роста в трех группах случайно выбранных спортсменов:\n",
    "# Футболисты: 173, 175, 180, 178, 177, 185, 183, 182.\n",
    "# Хоккеисты: 177, 179, 180, 188, 177, 172, 171, 184, 180.\n",
    "# Штангисты: 172, 173, 169, 177, 166, 180, 178, 177, 172, 166, 170.\n",
    "\n",
    "import numpy as np\n",
    "import scipy.stats as stats\n",
    "\n",
    "football=np.array([173, 175, 180, 178, 177, 185, 183, 182])\n",
    "hockey = np.array([177, 179, 180, 188, 177, 172, 171, 184, 180])\n",
    "weight_lifter=np.array([172, 173, 169, 177, 166, 180, 178, 177, 172, 166, 170])\n",
    "f_mean=np.mean(football)\n",
    "h_mean=np.mean(hockey)\n",
    "w_mean=np.mean(weight_lifter)\n",
    "print(f'Cредние значения по группам: {f_mean},{h_mean},{w_mean}')\n",
    "\n",
    "total=np.hstack((football,hockey,weight_lifter))\n",
    "all_mean=np.mean(total)\n",
    "print(f'Среднее значение по всем группам : {all_mean}')\n",
    "\n",
    "all_s2=np.sum((total-all_mean)**2)\n",
    "print(f'Сумма квадратов отклонений по всем группам : {all_s2}')\n",
    "\n",
    "s2f=np.sum((f_mean-all_mean)**2)*len(football)+ ((h_mean-all_mean)**2)*len(hockey)+((w_mean-all_mean)**2)*len(weight_lifter)\n",
    "print(f'Сумма квадратов отклонений средних групповых значений от общего : {s2f}')\n",
    "s2ost=np.sum((football-f_mean)**2)+np.sum((hockey-h_mean)**2)+np.sum((weight_lifter-w_mean)**2)\n",
    "print(f'Сумма квадратов отклонений остаточная : {s2ost}')\n",
    "\n",
    "s=s2f+s2ost\n",
    "print(f'Общая : {s}')\n",
    "\n",
    "d_f=s2f/(3-1)\n",
    "print(f'Факторная дисперсия : {d_f}')\n",
    "\n",
    "d_ost=s2ost/(len(total)-3)\n",
    "print(f'Остаточная дисперсия : {d_ost}')\n",
    "\n",
    "F_h=d_f/d_ost\n",
    "print(f'Наблюдаемое значение критерия: {F_h}')\n",
    "F_f=stats.f_oneway(football,hockey,weight_lifter)\n",
    "print(f'Вычисление с помощью функции : {F_f}')\n",
    "\n",
    "alpha=0.05\n",
    "df1=3-1\n",
    "df2=len(total)-3\n",
    "df1,df2\n",
    "F_t=3.38\n",
    "\n",
    "if (F_h>F_t):\n",
    "    print('Есть различия в среднем росте среди групп')\n",
    "else:\n",
    "    print('Различий в среднем росте среди групп нет')\n",
    "\n",
    "\n"
   ]
  },
  {
   "cell_type": "code",
   "execution_count": null,
   "id": "ebc5992d",
   "metadata": {},
   "outputs": [],
   "source": []
  }
 ],
 "metadata": {
  "kernelspec": {
   "display_name": "Python 3",
   "language": "python",
   "name": "python3"
  },
  "language_info": {
   "codemirror_mode": {
    "name": "ipython",
    "version": 3
   },
   "file_extension": ".py",
   "mimetype": "text/x-python",
   "name": "python",
   "nbconvert_exporter": "python",
   "pygments_lexer": "ipython3",
   "version": "3.8.8"
  }
 },
 "nbformat": 4,
 "nbformat_minor": 5
}
