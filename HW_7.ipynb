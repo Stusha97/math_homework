{
 "cells": [
  {
   "cell_type": "code",
   "execution_count": 3,
   "id": "e5dcb7df",
   "metadata": {},
   "outputs": [
    {
     "name": "stdout",
     "output_type": "stream",
     "text": [
      "MannwhitneyuResult(statistic=4.0, pvalue=0.29794154528258887)\n",
      "Используя критерий Манна Уитни получен результатMannwhitneyuResult(statistic=4.0, pvalue=0.29794154528258887),при alfa=0.05, pvalue больше alfa,значит стат различий нет\n"
     ]
    }
   ],
   "source": [
    "# 1) Выбрать тест и проверить, есть  ли различия между выборками:\n",
    "# 1)  Даны две  независимые выборки. Не соблюдается условие нормальности\n",
    "# x1  380,420, 290\n",
    "# y1 140,360,200,900\n",
    "# Сделайте вывод по результатам, полученным с помощью функции\n",
    "\n",
    "import numpy as np\n",
    "import scipy.stats as stats\n",
    "x1=np.array([380,420,290])\n",
    "x2=np.array([140,360,200,900])\n",
    "res=stats.mannwhitneyu(x1,x2)print(res)\n",
    "print(f'Используя критерий Манна Уитни получен результат{res},при alfa=0.05, pvalue больше alfa,значит стат различий нет')"
   ]
  },
  {
   "cell_type": "code",
   "execution_count": 5,
   "id": "b58cb8ed",
   "metadata": {},
   "outputs": [
    {
     "name": "stdout",
     "output_type": "stream",
     "text": [
      "Используя критерий Фридмана получен результат FriedmanchisquareResult(statistic=9.578947368421062, pvalue=0.00831683351100441),при alfa=0.05, pvalue меньше alfa,значит стат различия есть,препарат влияет\n"
     ]
    }
   ],
   "source": [
    "# 2) Исследовалось влияние препарата на уровень давления пациентов. Сначала измерялось давление до приема препарата, потом через 10 минут и через 30 минут. Есть ли статистически значимые различия?\n",
    "# 1е измерение до приема препарата: 150, 160, 165, 145, 155\n",
    "# 2е измерение через 10 минут: 140, 155, 150,  130, 135\n",
    "# 3е измерение через 30 минут: 130, 130, 120, 130, 125\n",
    "\n",
    "import numpy as np\n",
    "import scipy.stats as stats\n",
    "ar1=np.array([150, 160, 165, 145, 155])\n",
    "ar2=np.array([140, 155, 150,  130, 135])\n",
    "ar3=np.array([130, 130, 120, 130, 125])\n",
    "res=stats.friedmanchisquare(ar1,ar2,ar3)\n",
    "print(f'Используя критерий Фридмана получен результат {res},при alfa=0.05, pvalue меньше alfa,значит стат различия есть,препарат влияет')\n"
   ]
  },
  {
   "cell_type": "code",
   "execution_count": 7,
   "id": "f1eeda5c",
   "metadata": {},
   "outputs": [
    {
     "name": "stdout",
     "output_type": "stream",
     "text": [
      "Используя критерий Уилкоксона получен результат WilcoxonResult(statistic=0.0, pvalue=0.0625),при alfa=0.05, pvalue больше alfa,значит препарат не повлиял на давление после 10 мин\n"
     ]
    }
   ],
   "source": [
    "# 3) Сравните 1 и 2 е измерения, предполагая, что 3го измерения через 30 минут не было.\n",
    "import numpy as np\n",
    "import scipy.stats as stats\n",
    "ar1=np.array([150, 160, 165, 145, 155])\n",
    "ar2=np.array([140, 155, 150,  130, 135])\n",
    "res=stats.wilcoxon(ar1,ar2)\n",
    "print(f'Используя критерий Уилкоксона получен результат {res},при alfa=0.05, pvalue больше alfa,значит препарат не повлиял на давление после 10 мин')\n"
   ]
  },
  {
   "cell_type": "code",
   "execution_count": 9,
   "id": "b7965859",
   "metadata": {},
   "outputs": [
    {
     "name": "stdout",
     "output_type": "stream",
     "text": [
      "KruskalResult(statistic=5.465564058257224, pvalue=0.0650380998590494)\n",
      "Используя критерий Крускала-Уоллиса получен результат KruskalResult(statistic=5.465564058257224, pvalue=0.0650380998590494),при alfa=0.05, pvalue больше alfa,значит стат разницы во времени плавания в группах нет\n"
     ]
    }
   ],
   "source": [
    "# 4) Даны 3 группы  учеников плавания.\n",
    "# В 1 группе время на дистанцию 50 м составляют:\n",
    "# 56, 60, 62, 55, 71, 67, 59, 58, 64, 67\n",
    "# Вторая группа : 57, 58, 69, 48, 72, 70, 68, 71, 50, 53\n",
    "# Третья группа: 57, 67, 49, 48, 47, 55, 66, 51, 54\n",
    "import numpy as np\n",
    "import scipy.stats as stats\n",
    "gr1=np.array([56, 60, 62, 55, 71, 67, 59, 58, 64, 67])\n",
    "gr2=np.array([57, 58, 69, 48, 72, 70, 68, 71, 50, 53])\n",
    "gr3=np.array([57, 67, 49, 48, 47, 55, 66, 51, 54])\n",
    "res =stats.kruskal(gr1,gr2,gr3)\n",
    "print(res)\n",
    "print(f'Используя критерий Крускала-Уоллиса получен результат {res},при alfa=0.05, pvalue больше alfa,значит стат разницы во времени плавания в группах нет')\n"
   ]
  },
  {
   "cell_type": "code",
   "execution_count": 16,
   "id": "3c2fb2c4",
   "metadata": {},
   "outputs": [
    {
     "name": "stdout",
     "output_type": "stream",
     "text": [
      "2.5279999999999996\n",
      "Расчетное значение критерия равно 0.5630613661802959\n",
      "Функцией получен результатTtest_1sampResult(statistic=0.5630613661802959, pvalue=0.5871439993940628), pvalue больше alfa, значит принимается нулевая гипотеза\n"
     ]
    }
   ],
   "source": [
    "# Заявляется, что партия изготавливается со средним арифметическим 2,5 см. \n",
    "# Проверить данную гипотезу, если известно, что размеры изделий подчинены нормальному закону распределения. \n",
    "# Объем выборки 10, уровень статистической значимости 5%\n",
    "# 2.51, 2.35, 2.74, 2.56, 2.40, 2.36, 2.65, 2.7, 2.67, 2.34\n",
    "\n",
    "#Нулевая гипотеза:партия изготавливается со средним арифметическим 2,5 см\n",
    "import numpy as np\n",
    "import scipy.stats as stats\n",
    "x=np.array([2.51, 2.35, 2.74, 2.56, 2.40, 2.36, 2.65, 2.7, 2.67, 2.34])\n",
    "av=np.mean(x)\n",
    "print(av)\n",
    "std=np.std(x, ddof=1)\n",
    "l=len(x)\n",
    "t=(av-2.5)/(std/np.sqrt(l))\n",
    "print(f'Расчетное значение критерия равно {t}')\n",
    "# По таблице при уровне статистической значимости 5%,tтабл равно 1,833,значит гипотеза верна\n",
    "# Проверка функцией: \n",
    "res=stats.ttest_1samp(x,2.5)\n",
    "print(f'Функцией получен результат{res}, pvalue больше alfa, значит принимается нулевая гипотеза')"
   ]
  },
  {
   "cell_type": "code",
   "execution_count": null,
   "id": "cdea0928",
   "metadata": {},
   "outputs": [],
   "source": []
  }
 ],
 "metadata": {
  "kernelspec": {
   "display_name": "Python 3",
   "language": "python",
   "name": "python3"
  },
  "language_info": {
   "codemirror_mode": {
    "name": "ipython",
    "version": 3
   },
   "file_extension": ".py",
   "mimetype": "text/x-python",
   "name": "python",
   "nbconvert_exporter": "python",
   "pygments_lexer": "ipython3",
   "version": "3.8.8"
  }
 },
 "nbformat": 4,
 "nbformat_minor": 5
}
